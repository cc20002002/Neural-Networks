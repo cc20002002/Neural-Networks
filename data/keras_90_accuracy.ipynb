{
 "cells": [
  {
   "cell_type": "markdown",
   "metadata": {
    "colab_type": "text",
    "id": "rX8mhOLljYeM"
   },
   "source": [
    "##### Copyright 2018 The TensorFlow Authors.\n",
    "\n",
    "Licensed under the Apache License, Version 2.0 (the \"License\");"
   ]
  },
  {
   "cell_type": "code",
   "execution_count": 1,
   "metadata": {
    "cellView": "form",
    "colab": {},
    "colab_type": "code",
    "id": "BZSlp3DAjdYf"
   },
   "outputs": [],
   "source": [
    "#@title Licensed under the Apache License, Version 2.0 (the \"License\");\n",
    "# you may not use this file except in compliance with the License.\n",
    "# You may obtain a copy of the License at\n",
    "#\n",
    "# https://www.apache.org/licenses/LICENSE-2.0\n",
    "#\n",
    "# Unless required by applicable law or agreed to in writing, software\n",
    "# distributed under the License is distributed on an \"AS IS\" BASIS,\n",
    "# WITHOUT WARRANTIES OR CONDITIONS OF ANY KIND, either express or implied.\n",
    "# See the License for the specific language governing permissions and\n",
    "# limitations under the License."
   ]
  },
  {
   "cell_type": "code",
   "execution_count": null,
   "metadata": {
    "colab": {},
    "colab_type": "code",
    "id": "RsYw2ZhCO5ic"
   },
   "outputs": [],
   "source": []
  },
  {
   "cell_type": "markdown",
   "metadata": {
    "colab_type": "text",
    "id": "3wF5wszaj97Y"
   },
   "source": [
    "# Get Started with TensorFlow"
   ]
  },
  {
   "cell_type": "markdown",
   "metadata": {
    "colab_type": "text",
    "id": "DUNzJc4jTj6G"
   },
   "source": [
    "<table class=\"tfo-notebook-buttons\" align=\"left\">\n",
    "  <td>\n",
    "    <a target=\"_blank\" href=\"https://www.tensorflow.org/tutorials/\"><img src=\"https://www.tensorflow.org/images/tf_logo_32px.png\" />View on TensorFlow.org</a>\n",
    "  </td>\n",
    "  <td>\n",
    "    <a target=\"_blank\" href=\"https://colab.research.google.com/github/tensorflow/docs/blob/master/site/en/tutorials/_index.ipynb\"><img src=\"https://www.tensorflow.org/images/colab_logo_32px.png\" />Run in Google Colab</a>\n",
    "  </td>\n",
    "  <td>\n",
    "    <a target=\"_blank\" href=\"https://github.com/tensorflow/docs/blob/master/site/en/tutorials/_index.ipynb\"><img src=\"https://www.tensorflow.org/images/GitHub-Mark-32px.png\" />View source on GitHub</a>\n",
    "  </td>\n",
    "</table>"
   ]
  },
  {
   "cell_type": "markdown",
   "metadata": {
    "colab_type": "text",
    "id": "hiH7AC-NTniF"
   },
   "source": [
    "This is a [Google Colaboratory](https://colab.research.google.com/notebooks/welcome.ipynb) notebook file. Python programs are run directly in the browser—a great way to learn and use TensorFlow. To run the Colab notebook:\n",
    "\n",
    "1. Connect to a Python runtime: At the top-right of the menu bar, select *CONNECT*.\n",
    "2. Run all the notebook code cells: Select *Runtime* > *Run all*.\n",
    "\n",
    "For more examples and guides (including details for this program), see [Get Started with TensorFlow](https://www.tensorflow.org/get_started/).\n",
    "\n",
    "Let's get started, import the TensorFlow library into your program:"
   ]
  },
  {
   "cell_type": "code",
   "execution_count": 2,
   "metadata": {
    "colab": {},
    "colab_type": "code",
    "id": "0trJmd6DjqBZ"
   },
   "outputs": [
    {
     "name": "stderr",
     "output_type": "stream",
     "text": [
      "C:\\ProgramData\\Anaconda3\\lib\\site-packages\\h5py\\__init__.py:36: FutureWarning: Conversion of the second argument of issubdtype from `float` to `np.floating` is deprecated. In future, it will be treated as `np.float64 == np.dtype(float).type`.\n",
      "  from ._conv import register_converters as _register_converters\n"
     ]
    }
   ],
   "source": [
    "from __future__ import absolute_import, division, print_function\n",
    "import tensorflow as tf"
   ]
  },
  {
   "cell_type": "markdown",
   "metadata": {
    "colab_type": "text",
    "id": "7NAbSZiaoJ4z"
   },
   "source": [
    "Load and prepare the [MNIST](http://yann.lecun.com/exdb/mnist/) dataset. Convert the samples from integers to floating-point numbers:"
   ]
  },
  {
   "cell_type": "code",
   "execution_count": 3,
   "metadata": {
    "colab": {},
    "colab_type": "code",
    "id": "yZf5B6opOxOg"
   },
   "outputs": [
    {
     "ename": "ModuleNotFoundError",
     "evalue": "No module named 'google.colab'",
     "output_type": "error",
     "traceback": [
      "\u001b[1;31m---------------------------------------------------------------------------\u001b[0m",
      "\u001b[1;31mModuleNotFoundError\u001b[0m                       Traceback (most recent call last)",
      "\u001b[1;32m<ipython-input-3-21dc3c638f66>\u001b[0m in \u001b[0;36m<module>\u001b[1;34m()\u001b[0m\n\u001b[1;32m----> 1\u001b[1;33m \u001b[1;32mfrom\u001b[0m \u001b[0mgoogle\u001b[0m\u001b[1;33m.\u001b[0m\u001b[0mcolab\u001b[0m \u001b[1;32mimport\u001b[0m \u001b[0mfiles\u001b[0m\u001b[1;33m\u001b[0m\u001b[0m\n\u001b[0m\u001b[0;32m      2\u001b[0m \u001b[0muploaded\u001b[0m \u001b[1;33m=\u001b[0m \u001b[0mfiles\u001b[0m\u001b[1;33m.\u001b[0m\u001b[0mupload\u001b[0m\u001b[1;33m(\u001b[0m\u001b[1;33m)\u001b[0m\u001b[1;33m\u001b[0m\u001b[0m\n",
      "\u001b[1;31mModuleNotFoundError\u001b[0m: No module named 'google.colab'"
     ]
    }
   ],
   "source": [
    "from google.colab import files\n",
    "uploaded = files.upload()"
   ]
  },
  {
   "cell_type": "code",
   "execution_count": null,
   "metadata": {
    "colab": {},
    "colab_type": "code",
    "id": "G7jfYRIbO03n"
   },
   "outputs": [],
   "source": [
    "from google.colab import files\n",
    "uploaded = files.upload()"
   ]
  },
  {
   "cell_type": "code",
   "execution_count": 4,
   "metadata": {
    "colab": {},
    "colab_type": "code",
    "id": "hiBrZknpOAet"
   },
   "outputs": [
    {
     "data": {
      "text/plain": [
       "9"
      ]
     },
     "execution_count": 4,
     "metadata": {},
     "output_type": "execute_result"
    }
   ],
   "source": [
    "\n",
    "\n",
    "\n",
    "\n",
    "import h5py\n",
    "import numpy as np\n",
    "with h5py.File('train_128.h5','r') as H:\n",
    "  data = np.copy(H['data'])\n",
    "with h5py.File('train_label.h5','r') as H:\n",
    "  label = np.copy(H['label'])\n",
    "train_128Train=data[0:50000,:]\n",
    "train_128Test=data[50000:60000,:]\n",
    "train_labelTrain=label[0:50000]\n",
    "train_labelTest=label[50000:60000]\n",
    "max(train_labelTrain)\n",
    "\n"
   ]
  },
  {
   "cell_type": "code",
   "execution_count": 5,
   "metadata": {
    "colab": {},
    "colab_type": "code",
    "id": "7FP5258xjs-v"
   },
   "outputs": [
    {
     "name": "stdout",
     "output_type": "stream",
     "text": [
      "Downloading data from https://storage.googleapis.com/tensorflow/tf-keras-datasets/mnist.npz\n",
      "11493376/11490434 [==============================] - 1s 0us/step\n"
     ]
    }
   ],
   "source": [
    "mnist = tf.keras.datasets.mnist\n",
    "\n",
    "(x_train, y_train), (x_test, y_test) = mnist.load_data()\n",
    "x_train, x_test = x_train / 255.0, x_test / 255.0"
   ]
  },
  {
   "cell_type": "markdown",
   "metadata": {
    "colab_type": "text",
    "id": "BPZ68wASog_I"
   },
   "source": [
    "Build the `tf.keras` model by stacking layers. Select an optimizer and loss function used for training:"
   ]
  },
  {
   "cell_type": "code",
   "execution_count": 6,
   "metadata": {
    "colab": {},
    "colab_type": "code",
    "id": "qpjDNyu3PKad"
   },
   "outputs": [
    {
     "data": {
      "text/plain": [
       "(60000, 28, 28)"
      ]
     },
     "execution_count": 6,
     "metadata": {},
     "output_type": "execute_result"
    }
   ],
   "source": [
    "np.shape(x_train)"
   ]
  },
  {
   "cell_type": "code",
   "execution_count": 18,
   "metadata": {
    "colab": {},
    "colab_type": "code",
    "id": "h3IKyzTCDNGo"
   },
   "outputs": [],
   "source": [
    "model = tf.keras.models.Sequential([  \n",
    "  tf.keras.layers.BatchNormalization(),\n",
    "  tf.keras.layers.Dense(900, activation=tf.nn.sigmoid, kernel_regularizer=tf.keras.regularizers.l2(0.0015)),   # continue search 0.0015 --0.004 \n",
    "  tf.keras.layers.Dropout(0.02),\n",
    "  tf.keras.layers.BatchNormalization(),\n",
    "  tf.keras.layers.Dense(900, activation=tf.nn.relu, kernel_regularizer=tf.keras.regularizers.l2(0.0015)),   # continue search 0.0015 --0.004\n",
    "  tf.keras.layers.Dropout(0.02),\n",
    "  #tf.keras.layers.BatchNormalization(),\n",
    "  tf.keras.layers.Dense(10, activation=tf.nn.softmax)\n",
    "])\n",
    "\n",
    "model.compile(optimizer=tf.keras.optimizers.SGD(lr=0.005,momentum=0.9),\n",
    "              loss='sparse_categorical_crossentropy',\n",
    "              metrics=['accuracy'])"
   ]
  },
  {
   "cell_type": "markdown",
   "metadata": {
    "colab_type": "text",
    "id": "ix4mEL65on-w"
   },
   "source": [
    "Train and evaluate model:"
   ]
  },
  {
   "cell_type": "code",
   "execution_count": 19,
   "metadata": {
    "colab": {},
    "colab_type": "code",
    "id": "F7dTAzgHDUh7"
   },
   "outputs": [
    {
     "name": "stdout",
     "output_type": "stream",
     "text": [
      "Epoch 1/50\n",
      "50000/50000 [==============================] - 2s 30us/sample - loss: 3.0248 - acc: 0.5789\n",
      "Epoch 2/50\n",
      "50000/50000 [==============================] - 1s 18us/sample - loss: 2.2128 - acc: 0.8228\n",
      "Epoch 3/50\n",
      "50000/50000 [==============================] - 1s 18us/sample - loss: 2.1237 - acc: 0.8381\n",
      "Epoch 4/50\n",
      "50000/50000 [==============================] - 1s 18us/sample - loss: 2.0685 - acc: 0.8449\n",
      "Epoch 5/50\n",
      "50000/50000 [==============================] - 1s 18us/sample - loss: 2.0258 - acc: 0.8524\n",
      "Epoch 6/50\n",
      "50000/50000 [==============================] - 1s 18us/sample - loss: 1.9866 - acc: 0.8567\n",
      "Epoch 7/50\n",
      "50000/50000 [==============================] - 1s 18us/sample - loss: 1.9526 - acc: 0.8611\n",
      "Epoch 8/50\n",
      "50000/50000 [==============================] - 1s 18us/sample - loss: 1.9200 - acc: 0.8617\n",
      "Epoch 9/50\n",
      "50000/50000 [==============================] - 1s 18us/sample - loss: 1.8866 - acc: 0.8678\n",
      "Epoch 10/50\n",
      "50000/50000 [==============================] - 1s 18us/sample - loss: 1.8576 - acc: 0.8696\n",
      "Epoch 11/50\n",
      "50000/50000 [==============================] - 1s 18us/sample - loss: 1.8306 - acc: 0.8714\n",
      "Epoch 12/50\n",
      "50000/50000 [==============================] - 1s 18us/sample - loss: 1.8016 - acc: 0.8749\n",
      "Epoch 13/50\n",
      "50000/50000 [==============================] - 1s 18us/sample - loss: 1.7749 - acc: 0.8771\n",
      "Epoch 14/50\n",
      "50000/50000 [==============================] - 1s 18us/sample - loss: 1.7493 - acc: 0.8786\n",
      "Epoch 15/50\n",
      "50000/50000 [==============================] - 1s 18us/sample - loss: 1.7234 - acc: 0.8817\n",
      "Epoch 16/50\n",
      "50000/50000 [==============================] - 1s 18us/sample - loss: 1.6996 - acc: 0.8820\n",
      "Epoch 17/50\n",
      "50000/50000 [==============================] - 1s 18us/sample - loss: 1.6771 - acc: 0.8853\n",
      "Epoch 18/50\n",
      "50000/50000 [==============================] - 1s 18us/sample - loss: 1.6532 - acc: 0.8849\n",
      "Epoch 19/50\n",
      "50000/50000 [==============================] - 1s 18us/sample - loss: 1.6299 - acc: 0.8886\n",
      "Epoch 20/50\n",
      "50000/50000 [==============================] - 1s 18us/sample - loss: 1.6076 - acc: 0.8890\n",
      "Epoch 21/50\n",
      "50000/50000 [==============================] - 1s 18us/sample - loss: 1.5862 - acc: 0.8904\n",
      "Epoch 22/50\n",
      "50000/50000 [==============================] - 1s 18us/sample - loss: 1.5628 - acc: 0.8933\n",
      "Epoch 23/50\n",
      "50000/50000 [==============================] - 1s 18us/sample - loss: 1.5427 - acc: 0.8925\n",
      "Epoch 24/50\n",
      "50000/50000 [==============================] - 1s 18us/sample - loss: 1.5229 - acc: 0.8935\n",
      "Epoch 25/50\n",
      "50000/50000 [==============================] - 1s 18us/sample - loss: 1.5022 - acc: 0.8949\n",
      "Epoch 26/50\n",
      "50000/50000 [==============================] - 1s 18us/sample - loss: 1.4823 - acc: 0.8975\n",
      "Epoch 27/50\n",
      "50000/50000 [==============================] - 1s 18us/sample - loss: 1.4639 - acc: 0.8976\n",
      "Epoch 28/50\n",
      "50000/50000 [==============================] - 1s 18us/sample - loss: 1.4455 - acc: 0.8982\n",
      "Epoch 29/50\n",
      "50000/50000 [==============================] - 1s 18us/sample - loss: 1.4266 - acc: 0.8993\n",
      "Epoch 30/50\n",
      "50000/50000 [==============================] - 1s 18us/sample - loss: 1.4079 - acc: 0.8992\n",
      "Epoch 31/50\n",
      "50000/50000 [==============================] - 1s 18us/sample - loss: 1.3893 - acc: 0.9033\n",
      "Epoch 32/50\n",
      "50000/50000 [==============================] - 1s 18us/sample - loss: 1.3733 - acc: 0.9034\n",
      "Epoch 33/50\n",
      "50000/50000 [==============================] - 1s 18us/sample - loss: 1.3550 - acc: 0.9036\n",
      "Epoch 34/50\n",
      "50000/50000 [==============================] - 1s 18us/sample - loss: 1.3393 - acc: 0.9050\n",
      "Epoch 35/50\n",
      "50000/50000 [==============================] - 1s 18us/sample - loss: 1.3226 - acc: 0.9048\n",
      "Epoch 36/50\n",
      "50000/50000 [==============================] - 1s 18us/sample - loss: 1.3052 - acc: 0.9066\n",
      "Epoch 37/50\n",
      "50000/50000 [==============================] - 1s 18us/sample - loss: 1.2894 - acc: 0.9070\n",
      "Epoch 38/50\n",
      "50000/50000 [==============================] - 1s 18us/sample - loss: 1.2728 - acc: 0.9074\n",
      "Epoch 39/50\n",
      "50000/50000 [==============================] - 1s 18us/sample - loss: 1.2585 - acc: 0.9080\n",
      "Epoch 40/50\n",
      "50000/50000 [==============================] - 1s 18us/sample - loss: 1.2435 - acc: 0.9087\n",
      "Epoch 41/50\n",
      "50000/50000 [==============================] - 1s 18us/sample - loss: 1.2277 - acc: 0.9091\n",
      "Epoch 42/50\n",
      "50000/50000 [==============================] - 1s 18us/sample - loss: 1.2123 - acc: 0.9107\n",
      "Epoch 43/50\n",
      "50000/50000 [==============================] - 1s 18us/sample - loss: 1.1979 - acc: 0.9119\n",
      "Epoch 44/50\n",
      "50000/50000 [==============================] - 1s 18us/sample - loss: 1.1857 - acc: 0.9115\n",
      "Epoch 45/50\n",
      "50000/50000 [==============================] - 1s 18us/sample - loss: 1.1715 - acc: 0.9115\n",
      "Epoch 46/50\n",
      "50000/50000 [==============================] - 1s 18us/sample - loss: 1.1574 - acc: 0.9116\n",
      "Epoch 47/50\n",
      "50000/50000 [==============================] - 1s 18us/sample - loss: 1.1434 - acc: 0.9125\n",
      "Epoch 48/50\n",
      "50000/50000 [==============================] - 1s 18us/sample - loss: 1.1309 - acc: 0.9129\n",
      "Epoch 49/50\n",
      "50000/50000 [==============================] - 1s 18us/sample - loss: 1.1155 - acc: 0.9160\n",
      "Epoch 50/50\n",
      "50000/50000 [==============================] - 1s 18us/sample - loss: 1.1037 - acc: 0.9156\n",
      "10000/10000 [==============================] - 1s 92us/sample - loss: 1.1484 - acc: 0.8947\n"
     ]
    },
    {
     "data": {
      "text/plain": [
       "[1.1484106760978698, 0.8947]"
      ]
     },
     "execution_count": 19,
     "metadata": {},
     "output_type": "execute_result"
    }
   ],
   "source": [
    "model.fit(train_128Train, train_labelTrain, epochs=50, batch_size=1024)\n",
    "\n",
    "model.evaluate(train_128Test, train_labelTest)"
   ]
  },
  {
   "cell_type": "markdown",
   "metadata": {
    "colab_type": "text",
    "id": "T4JfEh7kvx6m"
   },
   "source": [
    "You’ve now trained an image classifier with ~98% accuracy on this dataset. See [Get Started with TensorFlow](https://www.tensorflow.org/get_started/) to learn more."
   ]
  }
 ],
 "metadata": {
  "accelerator": "GPU",
  "colab": {
   "collapsed_sections": [],
   "name": "Copy of _index.ipynb",
   "private_outputs": true,
   "provenance": [],
   "toc_visible": true,
   "version": "0.3.2"
  },
  "kernelspec": {
   "display_name": "Python 3",
   "language": "python",
   "name": "python3"
  },
  "language_info": {
   "codemirror_mode": {
    "name": "ipython",
    "version": 3
   },
   "file_extension": ".py",
   "mimetype": "text/x-python",
   "name": "python",
   "nbconvert_exporter": "python",
   "pygments_lexer": "ipython3",
   "version": "3.6.5"
  }
 },
 "nbformat": 4,
 "nbformat_minor": 1
}
