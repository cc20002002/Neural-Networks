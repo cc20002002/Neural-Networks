{
 "cells": [
  {
   "cell_type": "code",
   "execution_count": 1,
   "metadata": {},
   "outputs": [
    {
     "name": "stderr",
     "output_type": "stream",
     "text": [
      "/anaconda3/lib/python3.6/site-packages/h5py/__init__.py:36: FutureWarning: Conversion of the second argument of issubdtype from `float` to `np.floating` is deprecated. In future, it will be treated as `np.float64 == np.dtype(float).type`.\n",
      "  from ._conv import register_converters as _register_converters\n"
     ]
    }
   ],
   "source": [
    "import numpy as np\n",
    "import scipy\n",
    "import h5py\n"
   ]
  },
  {
   "cell_type": "code",
   "execution_count": 27,
   "metadata": {},
   "outputs": [
    {
     "name": "stdout",
     "output_type": "stream",
     "text": [
      "Training set shape: (60000, 128)\n",
      "Training label shape: (60000,)\n",
      "Testing set shape: (10000, 128)\n"
     ]
    }
   ],
   "source": [
    "# Import Training Data and Testing Data\n",
    "with h5py.File('train_128.h5','r') as H: \n",
    "    train_data = np.copy(H['data'])  \n",
    "with h5py.File('train_label.h5','r') as H:\n",
    "    train_labels = np.copy(H['label'])\n",
    "with h5py.File('test_128.h5', 'r') as H:\n",
    "    test_data = np.copy(H['data'])\n",
    "    \n",
    "train_data_shape = train_data.shape\n",
    "train_labels_shape = train_labels.shape\n",
    "test_data_shape = test_data.shape\n",
    "\n",
    "print(f'Training set shape: {train_data_shape}')\n",
    "print(f'Training label shape: {train_labels_shape}')\n",
    "print(f'Testing set shape: {test_data_shape}')\n",
    "\n",
    "learning_rate = 0.11\n",
    "max_iteration = 15\n",
    "droput_rate = 0.92\n",
    "batch_size = 16\n",
    "hidden_layer_dim = 32\n",
    "output_layer_dim = len(set(train_labels))"
   ]
  },
  {
   "cell_type": "code",
   "execution_count": null,
   "metadata": {},
   "outputs": [],
   "source": [
    "# Calculate Neural Network Dimensions\n",
    "layer_dims = [train_data.shape[1], hidden_layer_dim, hidden_layer_dim, output_layer_dim]"
   ]
  },
  {
   "cell_type": "code",
   "execution_count": 94,
   "metadata": {},
   "outputs": [],
   "source": [
    "# Initialise Different Activation Functions\n",
    "def sigmoid(Z):\n",
    "    A = 1 / (1 + np.exp(-Z))\n",
    "    cache = Z\n",
    "    return A, cache\n",
    "\n",
    "def relu(Z):\n",
    "    A = np.maximum(0, Z)\n",
    "    cache = Z\n",
    "    return A, cache\n",
    "\n",
    "def tanh(Z):\n",
    "    A = np.tanh(Z)\n",
    "    cache = Z\n",
    "    return A, cache\n",
    "\n",
    "def softmax(x):\n",
    "    \"\"\"Compute softmax values for each sets of scores in x.\"\"\"\n",
    "    e_x = np.exp(x - np.max(x))\n",
    "    return e_x / e_x.sum()\n",
    "\n",
    "def one_hot_encoding(y, dims):\n",
    "    y_encoded = np.zeros((dims[0], dims[1]))\n",
    "    y_encoded[np.arange(0, dims[0]), y] = 1\n",
    "    return y_encoded\n",
    "    "
   ]
  },
  {
   "cell_type": "code",
   "execution_count": null,
   "metadata": {},
   "outputs": [],
   "source": [
    "def initialise_parameters(layer_dims):\n",
    "    np.random.seed(3)\n",
    "    parameters = {}\n",
    "    num_layers = len(layer_dims)\n",
    "    \n",
    "    for l in range(1, num_layers):\n",
    "        # TODO - this need to be reviewed for random initialisation\n",
    "        parameters['W' + str(l)] = np.random.randn(layer_dims[l], layer_dims[l-1]) * 0.01\n",
    "        parameters['b' + str(l)] = np.zeros((layer_dims[l], 1))\n",
    "        \n",
    "    return parameters"
   ]
  },
  {
   "cell_type": "code",
   "execution_count": null,
   "metadata": {},
   "outputs": [],
   "source": [
    "def main():\n",
    "    return None\n",
    "\n",
    "\n",
    "main()"
   ]
  },
  {
   "cell_type": "code",
   "execution_count": 96,
   "metadata": {},
   "outputs": [
    {
     "name": "stdout",
     "output_type": "stream",
     "text": [
      "(60000,)\n",
      "9\n",
      "[[0. 0. 0. ... 0. 0. 1.]\n",
      " [1. 0. 0. ... 0. 0. 0.]\n",
      " [1. 0. 0. ... 0. 0. 0.]\n",
      " ...\n",
      " [0. 0. 0. ... 0. 0. 0.]\n",
      " [1. 0. 0. ... 0. 0. 0.]\n",
      " [0. 0. 0. ... 0. 0. 0.]]\n"
     ]
    }
   ],
   "source": [
    "y = train_labels\n"
   ]
  },
  {
   "cell_type": "code",
   "execution_count": 136,
   "metadata": {},
   "outputs": [
    {
     "ename": "IndexError",
     "evalue": "too many indices for array",
     "output_type": "error",
     "traceback": [
      "\u001b[0;31m---------------------------------------------------------------------------\u001b[0m",
      "\u001b[0;31mIndexError\u001b[0m                                Traceback (most recent call last)",
      "\u001b[0;32m<ipython-input-136-e791f36e76a2>\u001b[0m in \u001b[0;36m<module>\u001b[0;34m()\u001b[0m\n\u001b[1;32m      1\u001b[0m \u001b[0mtrainsize\u001b[0m \u001b[0;34m=\u001b[0m \u001b[0;36m50048\u001b[0m\u001b[0;34m\u001b[0m\u001b[0m\n\u001b[1;32m      2\u001b[0m \u001b[0mx\u001b[0m \u001b[0;34m=\u001b[0m \u001b[0mtrain_data\u001b[0m\u001b[0;34m[\u001b[0m\u001b[0;34m:\u001b[0m\u001b[0mtrainsize\u001b[0m\u001b[0;34m,\u001b[0m\u001b[0;34m:\u001b[0m\u001b[0;34m]\u001b[0m\u001b[0;34m\u001b[0m\u001b[0m\n\u001b[0;32m----> 3\u001b[0;31m \u001b[0my\u001b[0m \u001b[0;34m=\u001b[0m \u001b[0mone_hot_encoding\u001b[0m\u001b[0;34m(\u001b[0m\u001b[0mtrain_labels\u001b[0m\u001b[0;34m[\u001b[0m\u001b[0;34m:\u001b[0m\u001b[0mtrainsize\u001b[0m\u001b[0;34m,\u001b[0m\u001b[0;34m:\u001b[0m\u001b[0;34m]\u001b[0m\u001b[0;34m,\u001b[0m \u001b[0;34m[\u001b[0m\u001b[0mtrainsize\u001b[0m\u001b[0;34m,\u001b[0m \u001b[0;36m10\u001b[0m\u001b[0;34m]\u001b[0m\u001b[0;34m)\u001b[0m\u001b[0;34m\u001b[0m\u001b[0m\n\u001b[0m\u001b[1;32m      4\u001b[0m \u001b[0mxtest\u001b[0m \u001b[0;34m=\u001b[0m \u001b[0mtrain_data\u001b[0m\u001b[0;34m[\u001b[0m\u001b[0mtrainsize\u001b[0m\u001b[0;34m+\u001b[0m\u001b[0;36m1\u001b[0m\u001b[0;34m:\u001b[0m\u001b[0;34m,\u001b[0m\u001b[0;34m:\u001b[0m\u001b[0;34m]\u001b[0m\u001b[0;34m\u001b[0m\u001b[0m\n\u001b[1;32m      5\u001b[0m \u001b[0mytest\u001b[0m \u001b[0;34m=\u001b[0m \u001b[0mtrain_labels\u001b[0m\u001b[0;34m[\u001b[0m\u001b[0mtrainsize\u001b[0m\u001b[0;34m+\u001b[0m\u001b[0;36m1\u001b[0m\u001b[0;34m:\u001b[0m\u001b[0;34m,\u001b[0m\u001b[0;34m:\u001b[0m\u001b[0;34m]\u001b[0m\u001b[0;34m\u001b[0m\u001b[0m\n",
      "\u001b[0;31mIndexError\u001b[0m: too many indices for array"
     ]
    }
   ],
   "source": [
    "trainsize = 50048\n",
    "x = train_data[:trainsize,:]\n",
    "y = one_hot_encoding(train_labels[:trainsize,:], [trainsize, 10])\n",
    "xtest = train_data[trainsize+1:,:]\n",
    "ytest = train_labels[trainsize+1:,:]\n",
    "\n",
    "np.random.seed(3)\n",
    "\n",
    "loss = np.arange(1, max_iteration)\n",
    "w1_new = np.zeros((hidden_layer_dim, train_data.shape[1] + 1))\n",
    "w2_new = np.zeros((hidden_layer_dim, hidden_layer_dim + 1))\n",
    "w3_new = np.zeros((output_layer_dim, hidden_layer_dim + 1))\n",
    "w1 = 2 * np.random.rand(hidden_layer_dim, train_data.shape[1] + 1) - 1\n",
    "w2 = 2 * np.random.rand(hidden_layer_dim, hidden_layer_dim + 1) - 1\n",
    "w3 = 2 * np.random.rand(output_layer_dim, hidden_layer_dim + 1) - 1\n",
    "momentum1 = 0\n",
    "momentum2 = 0\n",
    "momentum3 = 0\n",
    "\n",
    "trainsize = 50048\n",
    "js = int(trainsize / batch_size)\n",
    "# 16 x 128 matrix\n",
    "p = np.random.randint(0, trainsize, size=trainsize).reshape((batch_size, js))\n",
    "gamma1=1;\n",
    "beta1=0;\n",
    "gamma2=1;\n",
    "beta2=0;\n",
    "\n",
    "\n",
    "for iteration in np.arange(0, max_iteration):\n",
    "    for j in np.arange(0, js):\n",
    "        rate_drop=0.92\n",
    "        \n",
    "        xtemp = train_data[p[:,j],:]\n",
    "#       batch normalisation\n",
    "        xbar = np.mean(xtemp, axis=0)\n",
    "        xvar = np.var(xtemp.T).T\n",
    "        xtemp = np.divide((xtemp - xbar), np.sqrt(xvar + 1e-8))\n",
    "        xtemp1 = np.concatenate((np.ones((batch_size,1)), gamma1*xtemp+beta1), axis=1)\n",
    "\n",
    "        \n",
    "#       calculate hidden layer\n",
    "        z1 = 1 / (1 + np.exp(- np.matmul(w1, xtemp1.T))).T\n",
    "#       cauculate output layer\n",
    "#       z1 = 1 ./ (1 + exp(-w2 * [ones(1,numTP); z2']))';\n",
    "        drop = np.random.rand(batch_size, hidden_layer_dim) < rate_drop\n",
    "        z1 = z1 * drop / rate_drop\n",
    "        \n",
    "#         %zbar = mean(z1,2);        \n",
    "#         %zvar = var(z1')';\n",
    "#         %zbar = (zbar - zbar)./sqrt(zvar+1e-8);\n",
    "        \n",
    "        z11 = np.concatenate((np.ones((batch_size,1)), gamma2*z1+beta2), axis=1)           \n",
    "        z2 = np.matmul(w2, z11.T)\n",
    "        z2 = z2 * (z2 > 0)\n",
    "        z2 = z2.T\n",
    "        \n",
    "        \n",
    "        z3 = np.matmul(w3, np.concatenate((np.ones((1, batch_size)), z2.T), axis=0))\n",
    "        z3 = z3.T\n",
    "        z3 = softmax(z3.T).T\n",
    "#       calculate gradient output layer\n",
    "#       dz2/d(w2*z1)\n",
    "        delta3 = y[p[:,j],:] - z3\n",
    "#       calculate gragient hidden layer\n",
    "        delta2 = np.matmul(delta3, w3[:,1:]) * ( z2 > 0 )\n",
    "        \n",
    "#       calculate gragient hidden layer\n",
    "#       dz2/d(w1*xtemp1)\n",
    "        delta1 = z1 * (1 - z1) * drop * (np.matmul(delta2, w2[:,1:])) / rate_drop\n",
    "#       delta1 = delta1.*(delta1>0);\n",
    "        change3 = np.matmul(delta3.T, np.concatenate((np.ones((batch_size,1)), z2), axis=1)) / batch_size\n",
    "        change2 = np.matmul(delta2.T, np.concatenate((np.ones((batch_size,1)), z1), axis=1)) / batch_size\n",
    "        change1 = np.matmul(delta1.T, xtemp1) / batch_size\n",
    "#       sum of training pattern\n",
    "        w3_new = learning_rate * (change3 - 0.001*w3+0.5*momentum3)\n",
    "        w2_new = learning_rate * (change2 - 0.001*w2+0.5*momentum2)\n",
    "        w1_new = learning_rate * (change1 - 0.001*w1+0.5*momentum1)\n",
    "        momentum3 = change3\n",
    "        momentum2 = change2\n",
    "        momentum1 = change1\n",
    "        dbeta = np.matmul(delta1, w1[:,1:])\n",
    "        dgamma = sum(dbeta * xtemp) / batch_size\n",
    "        dbeta = sum(dbeta) / batch_size\n",
    "        gamma1 = gamma1 + 0.0005*dgamma\n",
    "        beta1 = beta1 + 0.0005*dbeta\n",
    "        dbeta = np.matmul(delta2, w2[:,1:])\n",
    "        dgamma = sum(dbeta * z1) / batch_size\n",
    "        dbeta = sum(dbeta) / batch_size\n",
    "        gamma2 = gamma2 + 0.0005*dgamma\n",
    "        beta2 = beta2 + 0.0005*dbeta\n",
    "#       update w2\n",
    "        w3 = w3 + w3_new\n",
    "        w2 = w2 + w2_new\n",
    "#       update w1\n",
    "        w1 = w1 + w1_new\n",
    "#     mean square error\n",
    "#     mse(1,iteration) = sum(sum((o-t).^2)')/(numTP*numOut)\n",
    "#     [~,i]=max(a,[],2);\n",
    "#     \n",
    "#     loss(iteration)\n",
    "    print(iteration)\n",
    "#     plot map and decision boundary\n",
    "#     calculate hidden layer\n",
    "    xbar = np.mean(xtest, axis=0)       \n",
    "    xvar = np.var(xtest.T).T\n",
    "    xtest1 = np.divide((xtest - xbar), np.sqrt(xvar+1e-8))\n",
    "    xtest2 = np.concatenate((np.ones(xtest.shape[0],1), gamma1*xtest1+beta1), axis=1)\n",
    "    z1 = 1 / (1 + np.exp(-np.matmul(w1, xtest2.T))).T\n",
    "    \n",
    "#     %zbar = mean(z1,2);        \n",
    "#     %zvar = var(z1')';\n",
    "#     %zbar = (zbar - zbar)./sqrt(zvar+1e-8);\n",
    "    \n",
    "    z11 = np.concatenate((np.ones(xtest.shape[0],1), gamma2*z1+beta2), axis=1)   \n",
    "    z2 = np.matmul(w2, z11.T)\n",
    "    z2 = z2 * (z2>0)    \n",
    "    z2 = z2.T\n",
    "#     % cauculate output layer\n",
    "#     %z1 = 1 ./ (1 + exp(-w2 * [ones(1,numTP); z2']))';\n",
    "    nn = z1.shape[0]\n",
    "    z3 = np.matmul(w3, np.concatenate((np.ones(1,nn), z2.T), axis=1))\n",
    "    z3 = z3.T\n",
    "#     %for i=1:9\n",
    "#     %    o = 1 ./ (1 + exp(-w2 * [ones(1,numTP); z']))';\n",
    "#     %end\n",
    "    z3 = softmax(z3.T).T\n",
    "#     [~,i]=max(z3,[],2);\n",
    "\n",
    "    accuracy = sum(i==(ytest+1)) / nn * 100\n",
    "    loss[iteration] = accuracy\n",
    "\n"
   ]
  },
  {
   "cell_type": "code",
   "execution_count": 110,
   "metadata": {},
   "outputs": [],
   "source": []
  },
  {
   "cell_type": "code",
   "execution_count": null,
   "metadata": {},
   "outputs": [],
   "source": []
  }
 ],
 "metadata": {
  "kernelspec": {
   "display_name": "Python 3",
   "language": "python",
   "name": "python3"
  },
  "language_info": {
   "codemirror_mode": {
    "name": "ipython",
    "version": 3
   },
   "file_extension": ".py",
   "mimetype": "text/x-python",
   "name": "python",
   "nbconvert_exporter": "python",
   "pygments_lexer": "ipython3",
   "version": "3.6.4"
  }
 },
 "nbformat": 4,
 "nbformat_minor": 2
}
